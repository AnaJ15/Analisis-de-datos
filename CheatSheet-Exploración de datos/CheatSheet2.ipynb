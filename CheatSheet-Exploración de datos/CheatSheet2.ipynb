{
 "cells": [
  {
   "cell_type": "markdown",
   "id": "46c6c3af-5dc0-4033-9a97-0acfcf0caf20",
   "metadata": {},
   "source": [
    "<h2>Importar Pandas</h2>"
   ]
  },
  {
   "cell_type": "code",
   "execution_count": null,
   "id": "8a016974-8d13-4698-ac5a-d6c927ed6082",
   "metadata": {},
   "outputs": [],
   "source": [
    "import pandas as pd\n"
   ]
  },
  {
   "cell_type": "markdown",
   "id": "af2c1376-bda9-4a85-863a-13108bbcd5d7",
   "metadata": {},
   "source": [
    "<h2>Creación de DataFrames y Series\n",
    "</h2>"
   ]
  },
  {
   "cell_type": "code",
   "execution_count": null,
   "id": "6599a97c-0611-4702-bc8f-f5f2059a3c7f",
   "metadata": {},
   "outputs": [],
   "source": [
    "# Crear un DataFrame desde un diccionario\n",
    "data = {'col1': [1, 2], 'col2': [3, 4]}\n",
    "df = pd.DataFrame(data)\n",
    "\n",
    "# Crear una Serie desde una lista\n",
    "s = pd.Series([1, 3, 5, 7, 9])"
   ]
  },
  {
   "cell_type": "markdown",
   "id": "98cedd7a-55ea-4411-95b8-c8958010c5cc",
   "metadata": {},
   "source": [
    "<h2>Operaciones de Selección\n",
    "</h2>"
   ]
  },
  {
   "cell_type": "code",
   "execution_count": null,
   "id": "52084f0e-d6b1-418d-8b14-3ac1ae80a753",
   "metadata": {},
   "outputs": [],
   "source": [
    "# Seleccionar una columna (devuelve una Serie)\n",
    "df['col1']\n",
    "\n",
    "# Seleccionar múltiples columnas (devuelve un DataFrame)\n",
    "df[['col1', 'col2']]\n",
    "\n",
    "# Selección de filas por índice\n",
    "df.iloc[0]  # Primera fila\n",
    "df.iloc[0:2]  # Primeras dos filas\n",
    "\n",
    "# Selección de filas por etiqueta\n",
    "df.loc[0]\n",
    "\n",
    "# Seleccionar filas con condiciones\n",
    "df[df['col1'] > 1]\n",
    "\n",
    "# Seleccionar una celda específica\n",
    "df.at[0, 'col1']\n",
    "df.iat[0, 0]"
   ]
  },
  {
   "cell_type": "markdown",
   "id": "f1505514-957b-4ab9-b362-51408af9c59a",
   "metadata": {},
   "source": [
    "<h2>Manipulación de Datos</h2>"
   ]
  },
  {
   "cell_type": "code",
   "execution_count": null,
   "id": "7cb2e03f-fee3-4f54-9098-b5e14924f926",
   "metadata": {},
   "outputs": [],
   "source": [
    "# Añadir una nueva columna\n",
    "df['col3'] = df['col1'] + df['col2']\n",
    "\n",
    "# Eliminar columnas\n",
    "df.drop('col3', axis=1, inplace=True)\n",
    "\n",
    "# Eliminar filas\n",
    "df.drop(0, axis=0, inplace=True)\n",
    "\n",
    "# Renombrar columnas\n",
    "df.rename(columns={'col1': 'A', 'col2': 'B'}, inplace=True)"
   ]
  },
  {
   "cell_type": "markdown",
   "id": "b6b7c9d8-ee0e-4bee-ba68-c58952fa23a4",
   "metadata": {},
   "source": [
    "<h2>Operaciones de Agregación</h2>"
   ]
  },
  {
   "cell_type": "code",
   "execution_count": null,
   "id": "5d8214f4-6905-44fe-b8c2-9a1a0b7f0511",
   "metadata": {},
   "outputs": [],
   "source": [
    "# Calcular la suma de una columna\n",
    "df['col1'].sum()\n",
    "\n",
    "# Calcular la media de una columna\n",
    "df['col1'].mean()\n",
    "\n",
    "# Calcular la desviación estándar\n",
    "df['col1'].std()\n",
    "\n",
    "# Estadísticas descriptivas\n",
    "df.describe()"
   ]
  },
  {
   "cell_type": "markdown",
   "id": "b6fd6504-183c-4fb8-b787-5a1f83d6193e",
   "metadata": {},
   "source": [
    "<h2>Manejo de Datos Faltantes</h2"
   ]
  },
  {
   "cell_type": "code",
   "execution_count": null,
   "id": "d09e921c-b616-4b6e-b68f-3d532fd835b3",
   "metadata": {},
   "outputs": [],
   "source": [
    "# Identificar datos faltantes\n",
    "df.isna()\n",
    "\n",
    "# Rellenar datos faltantes\n",
    "df.fillna(0, inplace=True)\n",
    "\n",
    "# Eliminar filas con datos faltantes\n",
    "df.dropna(inplace=True)"
   ]
  },
  {
   "cell_type": "markdown",
   "id": "2c271257-6ef3-4daa-a60c-706ecb57446c",
   "metadata": {},
   "source": [
    "<h2>Operaciones de Ordenamiento</h2"
   ]
  },
  {
   "cell_type": "code",
   "execution_count": null,
   "id": "b314f5bf-a510-4ac5-8d40-6367a1be6866",
   "metadata": {},
   "outputs": [],
   "source": [
    "# Ordenar por valores de una columna\n",
    "df.sort_values(by='col1', ascending=True, inplace=True)\n",
    "\n",
    "# Ordenar por índice\n",
    "df.sort_index(inplace=True)"
   ]
  },
  {
   "cell_type": "markdown",
   "id": "64ca06b6-b944-4f37-91d4-5333daad0341",
   "metadata": {},
   "source": [
    "<h2>Fusión y Unión de Datos</h2>"
   ]
  },
  {
   "cell_type": "code",
   "execution_count": null,
   "id": "b28f1438-28d2-472e-8ce2-3b783f0597f6",
   "metadata": {},
   "outputs": [],
   "source": [
    "# Concatenar DataFrames (apilar verticalmente)\n",
    "pd.concat([df1, df2], axis=0)\n",
    "\n",
    "# Concatenar DataFrames (apilar horizontalmente)\n",
    "pd.concat([df1, df2], axis=1)\n",
    "\n",
    "# Unir DataFrames por claves comunes (join)\n",
    "df1.join(df2, on='key')\n",
    "\n",
    "# Mezclar DataFrames (merge)\n",
    "pd.merge(df1, df2, on='key')"
   ]
  },
  {
   "cell_type": "markdown",
   "id": "4e139442-10d5-4ebe-a5a1-618647a88966",
   "metadata": {},
   "source": [
    "<h2>Operaciones de Agrupamiento</h2>"
   ]
  },
  {
   "cell_type": "code",
   "execution_count": null,
   "id": "c52a1643-b103-46dc-9290-7940f09e2de0",
   "metadata": {},
   "outputs": [],
   "source": [
    "# Agrupar por una columna y calcular la media\n",
    "df.groupby('col1').mean()\n",
    "\n",
    "# Agrupar y aplicar múltiples funciones de agregación\n",
    "df.groupby('col1').agg({'col2': 'sum', 'col3': 'mean'})"
   ]
  },
  {
   "cell_type": "markdown",
   "id": "2e5c3843-0d99-429b-904f-0a99326b50fb",
   "metadata": {},
   "source": [
    "<h2>Operaciones de Fecha y Hora</h2>"
   ]
  },
  {
   "cell_type": "code",
   "execution_count": null,
   "id": "41d3aa73-7fb2-4f55-bd27-23ec8b515244",
   "metadata": {},
   "outputs": [],
   "source": [
    "# Convertir una columna a tipo datetime\n",
    "df['date'] = pd.to_datetime(df['date'])\n",
    "\n",
    "# Extraer año, mes, día de una columna datetime\n",
    "df['year'] = df['date'].dt.year\n",
    "df['month'] = df['date'].dt.month\n",
    "df['day'] = df['date'].dt.day"
   ]
  },
  {
   "cell_type": "markdown",
   "id": "40e92371-91d5-44a1-a363-ab89c636ef9f",
   "metadata": {},
   "source": [
    "<h2>Entrada y Salida de Datos</h2>"
   ]
  },
  {
   "cell_type": "code",
   "execution_count": null,
   "id": "b764c337-62e0-4eb8-b97d-8801cc03ce23",
   "metadata": {},
   "outputs": [],
   "source": [
    "# Leer datos desde un archivo CSV\n",
    "df = pd.read_csv('archivo.csv')\n",
    "\n",
    "# Guardar DataFrame en un archivo CSV\n",
    "df.to_csv('archivo.csv', index=False)\n",
    "\n",
    "# Leer datos desde un archivo Excel\n",
    "df = pd.read_excel('archivo.xlsx', sheet_name='Sheet1')\n",
    "\n",
    "# Guardar DataFrame en un archivo Excel\n",
    "df.to_excel('archivo.xlsx', sheet_name='Sheet1', index=False)"
   ]
  },
  {
   "cell_type": "markdown",
   "id": "f2391a2b-689a-432a-ba33-d30f3ac96eb2",
   "metadata": {},
   "source": [
    "<h2>Índices Avanzados</h2>"
   ]
  },
  {
   "cell_type": "code",
   "execution_count": null,
   "id": "654ce5b3-0575-49ba-8ba0-274b3635349c",
   "metadata": {},
   "outputs": [],
   "source": [
    "# Establecer una columna como índice\n",
    "df.set_index('col1', inplace=True)\n",
    "\n",
    "# Reiniciar el índice\n",
    "df.reset_index(inplace=True)\n",
    "\n",
    "# Índices jerárquicos (MultiIndex)\n",
    "df_multi = df.set_index(['col1', 'col2'])\n",
    "\n",
    "# Selección en MultiIndex\n",
    "df_multi.loc[(index1, index2)]"
   ]
  },
  {
   "cell_type": "markdown",
   "id": "5e1a5991-07e5-4763-a4f0-c15f7a8e8dfe",
   "metadata": {},
   "source": [
    "<h2>Manipulación de Strings</h2>"
   ]
  },
  {
   "cell_type": "code",
   "execution_count": null,
   "id": "fbcb9ab8-59b3-4f17-9aa3-0d1d10b86b72",
   "metadata": {},
   "outputs": [],
   "source": [
    "# Convertir a minúsculas\n",
    "df['col1'] = df['col1'].str.lower()\n",
    "\n",
    "# Reemplazar caracteres\n",
    "df['col1'] = df['col1'].str.replace('old', 'new')\n",
    "\n",
    "# Dividir cadenas\n",
    "df[['first', 'second']] = df['col1'].str.split(' ', expand=True)\n",
    "\n",
    "# Extraer con expresiones regulares\n",
    "df['numbers'] = df['col1'].str.extract('(\\d+)')"
   ]
  },
  {
   "cell_type": "markdown",
   "id": "70240dee-4367-4fc9-a994-136ddda761bb",
   "metadata": {},
   "source": [
    "<h2>Categorización de Datos</h2>"
   ]
  },
  {
   "cell_type": "code",
   "execution_count": null,
   "id": "20e6836b-21e4-4241-bf08-c1b4007d81a4",
   "metadata": {},
   "outputs": [],
   "source": [
    "# Crear datos categóricos\n",
    "df['category'] = df['col1'].astype('category')\n",
    "\n",
    "# Categorización con cut\n",
    "df['bins'] = pd.cut(df['col1'], bins=[0, 10, 20, 30], labels=['Low', 'Medium', 'High'])\n",
    "\n",
    "# Categorización con qcut (cortes por cuantiles)\n",
    "df['quantiles'] = pd.qcut(df['col1'], q=4, labels=['Q1', 'Q2', 'Q3', 'Q4'])"
   ]
  },
  {
   "cell_type": "markdown",
   "id": "c656f703-8c4f-4751-b0eb-0eb36d6f9893",
   "metadata": {},
   "source": [
    "<h2>Visualización con Pandas</h2>"
   ]
  },
  {
   "cell_type": "code",
   "execution_count": null,
   "id": "5f002c10-48cb-4636-abe3-03731c7e53b4",
   "metadata": {},
   "outputs": [],
   "source": [
    "# Graficar directamente con Pandas\n",
    "df['col1'].plot(kind='line')  # Línea\n",
    "df['col1'].plot(kind='bar')   # Barra\n",
    "df['col1'].plot(kind='hist')  # Histograma\n",
    "df.plot(x='col1', y='col2', kind='scatter')  # Dispersión\n",
    "\n",
    "# Mostrar gráficos\n",
    "import matplotlib.pyplot as plt\n",
    "plt.show()"
   ]
  },
  {
   "cell_type": "markdown",
   "id": "75450791-a12f-4b24-aa23-77d7ea4f0312",
   "metadata": {},
   "source": [
    "<h2>Condiciones Complejas</h2>"
   ]
  },
  {
   "cell_type": "code",
   "execution_count": null,
   "id": "aeddb1c5-38e1-45bc-8e6c-be3a02d1a3dd",
   "metadata": {},
   "outputs": [],
   "source": [
    "# Usar np.where para asignación condicional\n",
    "import numpy as np\n",
    "df['new_col'] = np.where(df['col1'] > 0, 'Positive', 'Negative')\n",
    "\n",
    "# Asignación condicional con loc\n",
    "df.loc[df['col1'] > 0, 'new_col'] = 'Positive'"
   ]
  },
  {
   "cell_type": "code",
   "execution_count": null,
   "id": "6685db1f-b38c-4595-89f0-f18d0393d001",
   "metadata": {},
   "outputs": [],
   "source": []
  }
 ],
 "metadata": {
  "kernelspec": {
   "display_name": "Python 3 (ipykernel)",
   "language": "python",
   "name": "python3"
  },
  "language_info": {
   "codemirror_mode": {
    "name": "ipython",
    "version": 3
   },
   "file_extension": ".py",
   "mimetype": "text/x-python",
   "name": "python",
   "nbconvert_exporter": "python",
   "pygments_lexer": "ipython3",
   "version": "3.11.7"
  }
 },
 "nbformat": 4,
 "nbformat_minor": 5
}
