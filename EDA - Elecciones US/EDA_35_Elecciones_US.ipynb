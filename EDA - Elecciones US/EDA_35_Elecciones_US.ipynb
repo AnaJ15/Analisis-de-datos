{
 "cells": [
  {
   "cell_type": "markdown",
   "metadata": {},
   "source": [
    "# EDA_75\n",
    "# Guía Práctica para analizar las elecciones en USA (1976-2010) con Pandas"
   ]
  },
  {
   "cell_type": "markdown",
   "metadata": {},
   "source": [
    "Usando Pandas para extraer **insights** (percepciones) de las elecciones.\n",
    "\n",
    "Original: https://towardsdatascience.com/analysis-of-us-elections-from-1976-to-2010-with-pandas-6654cf69849d\n",
    "\n",
    "Dataset: https://www.kaggle.com/tunguz/us-elections-dataset (EDA_75_president-1976-2016.csv)"
   ]
  },
  {
   "cell_type": "markdown",
   "metadata": {},
   "source": [
    "USA prepara sus elecciones y en kaggle disponemos de un dataset para hacer análisis de las anteriores elecciones presidenciales de Estados Unidos.\n",
    "\n",
    "El conjunto de datos contiene elecciones de 1976 a 2016. Abordaremos los datos desde diferentes perspectivas y trataremos de  obtener una idea de cómo votó la gente.\n",
    "\n",
    "Usaremos **Pandas** para el análisis y visualización de datos, por lo que también será una buena práctica usar las funciones y métodos de Pandas.\n",
    "\n",
    "Comencemos por importar las bibliotecas y leer el conjunto de datos en un **dataframe** de Pandas."
   ]
  },
  {
   "cell_type": "code",
   "execution_count": null,
   "metadata": {},
   "outputs": [],
   "source": [
    "import numpy as np\n",
    "import pandas as pd"
   ]
  },
  {
   "cell_type": "markdown",
   "metadata": {},
   "source": [
    "A continuación, leamos los datos del dataset."
   ]
  },
  {
   "cell_type": "code",
   "execution_count": null,
   "metadata": {},
   "outputs": [],
   "source": [
    "president = pd.read_csv(\"EDA_35_president-1976-2016.csv\")"
   ]
  },
  {
   "cell_type": "markdown",
   "metadata": {},
   "source": [
    "Veamos las primeras filas usando la función `head()`"
   ]
  },
  {
   "cell_type": "code",
   "execution_count": null,
   "metadata": {},
   "outputs": [],
   "source": [
    "print('Primeras filas del dataset: \\n', president.head())\n",
    "print('\\n')\n",
    "print('Últimas filas del dataset: \\n', president.tail())"
   ]
  },
  {
   "cell_type": "markdown",
   "metadata": {},
   "source": [
    "Hay algunas columnas redundantes para el análisis. No estoy seguro de qué significan `state_fips`, `state_cen` y `state_ic`, pero pueden servir como un indicador o un valor único para un estado.\n",
    "\n",
    "Podemos confirmar comprobando y comparando los valores de estas columnas. Estas tres columnas tienen 51 valores únicos (uno para cada estado)."
   ]
  },
  {
   "cell_type": "code",
   "execution_count": null,
   "metadata": {},
   "outputs": [],
   "source": [
    "president.state_fips.nunique()"
   ]
  },
  {
   "cell_type": "markdown",
   "metadata": {},
   "source": [
    "Para un estado en particular, los valores en estas columnas son los mismos:"
   ]
  },
  {
   "cell_type": "code",
   "execution_count": null,
   "metadata": {},
   "outputs": [],
   "source": [
    "president[president.state == 'Alabama'][['state_fips','state_cen','state_ic']].value_counts()"
   ]
  },
  {
   "cell_type": "markdown",
   "metadata": {},
   "source": [
    "Dado que el conjunto de datos ya contiene información de estado, estas columnas son redundantes en términos de análisis, por lo que pueden descartarse.\n",
    "\n",
    "La columna de la oficina solo indica que esta es la elección presidencial, por lo que contiene un valor único (presidente de EE. UU.). Las columnas de versión y notas tampoco sirven de nada.\n",
    "\n",
    "Podemos soltar estas columnas usando la función `drop` de Pandas."
   ]
  },
  {
   "cell_type": "code",
   "execution_count": null,
   "metadata": {},
   "outputs": [],
   "source": [
    "president.drop(['state_po', 'state_fips', 'state_cen', 'state_ic','office', 'version', 'notes'], axis=1, inplace=True)\n",
    "president.head()"
   ]
  },
  {
   "cell_type": "markdown",
   "metadata": {},
   "source": [
    "Estamos listos para comenzar el análisis que dividí en tres secciones:\n",
    "\n",
    "- Número total de votos a lo largo del tiempo\n",
    "- Las proporciones de los votos para cada ganador.\n",
    "- Comparación estatal de partidos"
   ]
  },
  {
   "cell_type": "markdown",
   "metadata": {},
   "source": [
    "## A: Número Total de Votos\n",
    "\n",
    "Lo primero que comprobaremos es el número de votos por elección. La columna `totalvotes` muestra el número total de votos en un estado en particular. Por lo tanto, el siguiente código creará un marco de datos que contiene el total de votos en cada estado para cada elección."
   ]
  },
  {
   "cell_type": "code",
   "execution_count": null,
   "metadata": {},
   "outputs": [],
   "source": [
    "yearly_votes = president[['year','state','totalvotes']].groupby(['year','state']).mean().reset_index()\n",
    "yearly_votes.head()"
   ]
  },
  {
   "cell_type": "markdown",
   "metadata": {},
   "source": [
    "Podemos aplicar la función groupby en la columna `año` y sumar los valores en la columna `totalvotes`, lo que nos dará el número total de votos por elección."
   ]
  },
  {
   "cell_type": "code",
   "execution_count": null,
   "metadata": {},
   "outputs": [],
   "source": [
    "yearly_votes.groupby('year').sum().plot(figsize=(10,6), legend=False,title='Total Number of Votes in US Presendial Elections')"
   ]
  },
  {
   "cell_type": "markdown",
   "metadata": {},
   "source": [
    "Usé las herramientas de trazado de Pandas para trazar los resultados. Es más simple que usar la interfaz pyplot de Matplotlib, pero tiene menos control sobre la trama.\n",
    "\n",
    "El número de personas que votaron ha aumentado de manera constante, excepto en 1996 y 2012. Es muy posible que se deba al aumento de la población, por lo que una mejor medida sería el número de votos por millón de habitantes (elegibles para votar).\n",
    "\n",
    "Como comparación aproximada, la población ha aumentado aproximadamente un 50% desde 1970 (203 millones) hasta 2010 (308 millones). Por lo tanto, la **proporción de personas que votan se ha mantenido aproximadamente igual a lo largo de los años.**"
   ]
  },
  {
   "cell_type": "markdown",
   "metadata": {},
   "source": [
    "## B: Ratio de Votos por cada Ganador"
   ]
  },
  {
   "cell_type": "markdown",
   "metadata": {},
   "source": [
    "Algunas elecciones fueron tan reñidas que el ganador ganó por un pequeño porcentaje. También hubo algunas elecciones en las que el ganador ganó por un gran margen.\n",
    "Podemos calcular el ratio de votos de cada ganador. Primero agregaremos una columna `winner` a nuestro marco de datos (dataframe).\n",
    "\n",
    "Esta página de Wikipedia (https://en.wikipedia.org/wiki/List_of_presidents_of_the_United_States) contiene una lista de presidentes de Estados Unidos. Las tablas se pueden leer fácilmente en un marco de datos de pandas utilizando la función `read_html`. Convierte las tablas de la página web en una lista de marcos de datos."
   ]
  },
  {
   "cell_type": "code",
   "execution_count": null,
   "metadata": {},
   "outputs": [],
   "source": [
    "dfs = pd.read_html(\"https://en.wikipedia.org/wiki/List_of_presidents_of_the_United_States\")\n",
    "winners = dfs[1][['Election','President.1']]\n",
    "winners.head()"
   ]
  },
  {
   "cell_type": "markdown",
   "metadata": {},
   "source": [
    "El segundo marco de datos contiene la lista de presidentes de Estados Unidos. Solo necesitamos los datos de las elecciones de 1976 a 2016."
   ]
  },
  {
   "cell_type": "code",
   "execution_count": null,
   "metadata": {},
   "outputs": [],
   "source": [
    "winners = winners.iloc[-12:-1, :]\n",
    "winners.Election = winners.Election.astype('int64')\n",
    "winners.rename(columns={'President.1':'winner'}, inplace=True)\n",
    "winners"
   ]
  },
  {
   "cell_type": "markdown",
   "metadata": {},
   "source": [
    "Necesitamos los nombres en el mismo formato que en el marco de datos del presidente. *Jimmy Carter* debe formatearse como *Carter, Jimmy*. Usaré las operaciones de cadena de pandas para hacer esta tarea:"
   ]
  },
  {
   "cell_type": "code",
   "execution_count": null,
   "metadata": {},
   "outputs": [],
   "source": [
    "first_name = winners.winner.str.rsplit(' ', n=1, expand=True)[0]\n",
    "last_name = winners.winner.str.rsplit(' ', n=1, expand=True)[1]\n",
    "winners.winner = last_name + ', ' + first_name\n",
    "winners"
   ]
  },
  {
   "cell_type": "markdown",
   "metadata": {},
   "source": [
    "Necesitamos algunos pequeños ajustes para que los nombres de los presidentes coincidan exactamente."
   ]
  },
  {
   "cell_type": "code",
   "execution_count": null,
   "metadata": {},
   "outputs": [],
   "source": [
    "winners.winner[73] = 'Bush, George H.W.'\n",
    "winners.winner[78] = 'Obama, Barack H.'\n",
    "winners.winner[79] = 'Obama, Barack H.'\n",
    "winners.winner[80] = 'Trump, Donald J.'"
   ]
  },
  {
   "cell_type": "markdown",
   "metadata": {},
   "source": [
    "También convertí las fechas de las elecciones a números enteros para poder usar la función de combinación en el siguiente paso.\n",
    "Ahora podemos fusionar el marco de datos de `president` y `winners` según el año electoral."
   ]
  },
  {
   "cell_type": "code",
   "execution_count": null,
   "metadata": {},
   "outputs": [],
   "source": [
    "president = pd.merge(president, winners, left_on='year', right_on='Election')"
   ]
  },
  {
   "cell_type": "markdown",
   "metadata": {},
   "source": [
    "Filtraremos el marco de datos del presidente para incluir solo los votos de los ganadores."
   ]
  },
  {
   "cell_type": "code",
   "execution_count": null,
   "metadata": {},
   "outputs": [],
   "source": [
    "winner_votes = president[president.candidate == president.winner]\n",
    "winner_votes.head()"
   ]
  },
  {
   "cell_type": "markdown",
   "metadata": {},
   "source": [
    "Cada línea contiene el número de votos del ganador y el total de votos en un estado en particular para una elección en particular. Una simple función `groupby` nos dará los valores por país."
   ]
  },
  {
   "cell_type": "code",
   "execution_count": null,
   "metadata": {},
   "outputs": [],
   "source": [
    "total_votes = winner_votes[['year','winner','candidatevotes','totalvotes']].groupby(['year','winner']).sum()\n",
    "total_votes"
   ]
  },
  {
   "cell_type": "markdown",
   "metadata": {},
   "source": [
    "Podemos calcular la proporción de los ganadores mediante una simple operación matemática y ordenar los resultados."
   ]
  },
  {
   "cell_type": "code",
   "execution_count": null,
   "metadata": {},
   "outputs": [],
   "source": [
    "(total_votes.candidatevotes / total_votes.totalvotes).sort_values(ascending=False)"
   ]
  },
  {
   "cell_type": "markdown",
   "metadata": {},
   "source": [
    "El número uno es Ronald Reagan en su segundo mandato."
   ]
  },
  {
   "cell_type": "markdown",
   "metadata": {},
   "source": [
    "## C: Comparación estatal de partes"
   ]
  },
  {
   "cell_type": "markdown",
   "metadata": {},
   "source": [
    "Si te gusta la política, tienes una idea sobre a qué partido es probable que cada estado apoye más. También comprobemos eso con los números.\n",
    "\n",
    "This is the winner_votes dataframe. We will add a ratio column which is candidate votes divided by total votes."
   ]
  },
  {
   "cell_type": "code",
   "execution_count": null,
   "metadata": {},
   "outputs": [],
   "source": [
    "winner_votes['ratio'] = winner_votes.candidatevotes / winner_votes.totalvotes"
   ]
  },
  {
   "cell_type": "markdown",
   "metadata": {},
   "source": [
    "Queremos ver los diez mejores estados para demócratas y republicanos. La siguiente operación grupal devolverá los diez primeros estados según la proporción promedio más alta para los demócratas."
   ]
  },
  {
   "cell_type": "code",
   "execution_count": null,
   "metadata": {},
   "outputs": [],
   "source": [
    "winner_votes[winner_votes.party == 'democrat'][['state','ratio']]\\\n",
    ".groupby('state').mean().sort_values(by='ratio', ascending=False)[:10]"
   ]
  },
  {
   "cell_type": "markdown",
   "metadata": {},
   "source": [
    "Aquí está el resultado de la misma operación para el bando republicano."
   ]
  },
  {
   "cell_type": "code",
   "execution_count": null,
   "metadata": {},
   "outputs": [],
   "source": [
    "winner_votes[winner_votes.party == 'republican'][['state','ratio']]\\\n",
    ".groupby('state').mean().sort_values(by='ratio', ascending=False)[:10]"
   ]
  },
  {
   "cell_type": "markdown",
   "metadata": {},
   "source": [
    "## Conclusión\n",
    "\n",
    "Hemos analizado las elecciones presidenciales de Estados Unidos con respecto al número de votos a lo largo del tiempo, el dominio de cada presidente en términos de votos y los votos estatales para demócratas y republicanos. Los resultados pueden no sorprenderte, especialmente si te gusta la política.\n",
    "El otro enfoque de esta publicación es practicar cómo se pueden usar Pandas en el análisis y la manipulación de datos. Hemos realizado una gran cantidad de operaciones de Pandas en términos de análisis y manipulación de datos."
   ]
  }
 ],
 "metadata": {
  "kernelspec": {
   "display_name": "Python 3",
   "language": "python",
   "name": "python3"
  },
  "language_info": {
   "codemirror_mode": {
    "name": "ipython",
    "version": 3
   },
   "file_extension": ".py",
   "mimetype": "text/x-python",
   "name": "python",
   "nbconvert_exporter": "python",
   "pygments_lexer": "ipython3",
   "version": "3.8.3"
  }
 },
 "nbformat": 4,
 "nbformat_minor": 4
}
