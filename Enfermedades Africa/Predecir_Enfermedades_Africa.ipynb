{
 "cells": [
  {
   "cell_type": "markdown",
   "metadata": {},
   "source": [
    "# Predecir Enfermedades en África"
   ]
  },
  {
   "cell_type": "markdown",
   "metadata": {},
   "source": [
    "El link para descargar los datos es el siguiente: https://www.openml.org/d/1498"
   ]
  },
  {
   "cell_type": "markdown",
   "metadata": {},
   "source": [
    "En una región de Sudáfrica, los hombres de esa comunidad tienen un alto riesgo de padecer enfermedades cardíaca. Por tal motivo se han tomado algunos datos médicos y de acuerdo a estos se han determinado si es posible padecer la enfermedad o no.\n",
    "\n",
    "Los atributos que contiene este conjunto de datos son los siguientes:\n",
    "\n",
    "    Sbp: que se refiere a la presión arterial sistólica\n",
    "    Tabaco: la acumulación en kg de tabaco dentro de su organismo\n",
    "    Ldl: proteína de baja densidad del colesterol\n",
    "    Adiposity\n",
    "    Antecedentes familiares de padecer alguna enfermedad cardíaca\n",
    "    Comportamiento Tipo-A\n",
    "    Obesidad\n",
    "    Consumo recurrente de alcohol\n",
    "    Enfermedad cardíaca\n",
    "\n",
    "Recuerda que estos son términos médicos, por lo que es muy probable que no entiendas la mayoría de ellos. Lo que sí debes saber es que la última columna será nuestros datos objetivos, es decir esos serán los datos que vamos a predecir."
   ]
  },
  {
   "cell_type": "markdown",
   "metadata": {},
   "source": [
    "## Importar Librerias"
   ]
  },
  {
   "cell_type": "code",
   "execution_count": null,
   "metadata": {},
   "outputs": [],
   "source": [
    "### IMPORTAR LIBRERÍAS ###\n",
    "import pandas as pd"
   ]
  },
  {
   "cell_type": "markdown",
   "metadata": {},
   "source": [
    "## Importar los Datos"
   ]
  },
  {
   "cell_type": "code",
   "execution_count": null,
   "metadata": {},
   "outputs": [],
   "source": [
    "### IMPORTAR LOS DATOS ###\n",
    "data = pd.read_csv('phpgNaXZe.csv')\n",
    "data.head()"
   ]
  },
  {
   "cell_type": "markdown",
   "metadata": {},
   "source": [
    "Si imprimimos los datos que acabamos de exportar podemos observar que los nombres de las columnas se refieren a una númeración V1 hasta V9. \n",
    "\n",
    "Por esta razón es conveniente cambiar estos nombres por los reales de cada columna. Esta información la obtenemos directamente de la página donde descargamos los datos.\n",
    "\n",
    "Por lo tanto, definimos la variable *columnas* y colocamos los nuevos nombres. Debes tener cuidado en el orden que escribes cada nombre, este orden debe coincidir con el orden de las columnas dispuestas.\n",
    "\n",
    "Ahora agregamos estos nombres a nuestros datos, para ello nos valemos de la instrucción “columns” que nos proporciona Panda para realizar este cambio."
   ]
  },
  {
   "cell_type": "code",
   "execution_count": null,
   "metadata": {},
   "outputs": [],
   "source": [
    "#Colocar nombres a las columnas\n",
    "columnas = ['sbp','Tabaco','ldl','Adiposity','Familia','Tipo','Obesidad','Alcohol','Edad','chd']\n",
    "data.columns=columnas\n",
    "data.head()"
   ]
  },
  {
   "cell_type": "markdown",
   "metadata": {},
   "source": [
    "Imprimamos el resultado final. Como puedes ver ahora nuestros datos tienen los nombres respectivos para cada una de las columnas."
   ]
  },
  {
   "cell_type": "markdown",
   "metadata": {},
   "source": [
    "Lo primero es verificar el formato que contiene nuestros datos, para ello implementamos la instrucción *dtypes.*"
   ]
  },
  {
   "cell_type": "markdown",
   "metadata": {},
   "source": [
    "## Conocer formato de los datos"
   ]
  },
  {
   "cell_type": "code",
   "execution_count": null,
   "metadata": {},
   "outputs": [],
   "source": [
    "#Conocer el formato de los datos\n",
    "data.dtypes"
   ]
  },
  {
   "cell_type": "markdown",
   "metadata": {},
   "source": [
    "Como podemos observar los datos son enteros y flotantes, por lo que no es necesario realizar un procesamiento mayor en cuanto al tipo de datos.\n",
    "\n",
    "Posteriormente verificamos si se cuentan con datos perdidos. Para esto nos apoyamos de la instrucción isnull y sumamos los resultados. \n",
    "\n",
    "De acuerdo a los resultados obtenidos no se cuentan con ningún dato perdido."
   ]
  },
  {
   "cell_type": "markdown",
   "metadata": {},
   "source": [
    "## Conocer datos nulos"
   ]
  },
  {
   "cell_type": "code",
   "execution_count": null,
   "metadata": {},
   "outputs": [],
   "source": [
    "#Conocer los datos nulos\n",
    "data.isnull().sum()"
   ]
  },
  {
   "cell_type": "markdown",
   "metadata": {},
   "source": [
    "Según el análisis de datos realizado podemos determinar que no existe tanto trabajo para el procesamiento de los datos. Pero, esto no es tan cierto. Ya que si detallas los datos podrás observar de dos detalles.\n",
    "\n",
    "    El primero es que las columnas “familia” y “chd”, los datos son 1 y 2, esto lo podemos cambiar por 0 y 1.\n",
    "\n",
    "    A su vez si observas los valores de la columna “sbp” podrás ver que están en una escala mucho mayor a diferencia de las otras columnas. Por tal motivo debemos ajustar esta escala para obtener un mejor resultado.\n",
    "\n",
    "De acuerdo a esto, realicemos el procesamiento de los datos.\n",
    "\n",
    "    Lo primero que haremos es corregir los valores de las columnas “familia” y “chd”. Para este propósito sklearn y, más específicamente, preprocessing importamos labelencoder. Esta función se trata de codificar los datos de una etiqueta y nos facilita enormemente el trabajo.\n",
    "\n",
    "Importado esto procedemos a utilizarlos.\n",
    "\n",
    "    Definimos la variable “encoder” como la función “LabelEncoder” y la implementamos sobre las columnas que queremos transformar, utilizando la instrucción fit_transform."
   ]
  },
  {
   "cell_type": "code",
   "execution_count": null,
   "metadata": {},
   "outputs": [],
   "source": [
    "#Cambiar los datos de Familia y CHD en digitales\n",
    "from sklearn.preprocessing import LabelEncoder\n",
    "\n",
    "encoder = LabelEncoder()\n",
    "data['Familia']=encoder.fit_transform(data['Familia'])\n",
    "data['chd']=encoder.fit_transform(data['chd'])\n",
    "data.head()"
   ]
  },
  {
   "cell_type": "markdown",
   "metadata": {},
   "source": [
    "Donde anteriormente había un 2 ahora hay un 1 y donde había un 1 ahora ese valor es 0. Eso era justamente lo que esperábamos.\n",
    "\n",
    "Ahora procedemos a escalar los valores de la columna “sbp”.\n",
    "\n",
    "Para esto volvemos a utilizar la librería sklearn preprocessing e importamos MinMaxScaler. Con esta función podemos establecer un rango mínimo y máximo para los valores definidos y los transforma en ese rango.\n",
    "\n",
    "El siguiente paso es el de definir los rangos que vamos a implementar, por lo tanto los definimos entre 0 y 100, es decir los valores dentro de la columna “sbp” estarán dentro de la escala de 0 y 100.\n",
    "\n",
    "Ahora implementamos la función definida sobre la columna que queremos escalar e imprimimos los resultados."
   ]
  },
  {
   "cell_type": "code",
   "execution_count": null,
   "metadata": {},
   "outputs": [],
   "source": [
    "#Escalamos los valores de la columna sbp\n",
    "from sklearn.preprocessing import MinMaxScaler\n",
    "scale = MinMaxScaler(feature_range =(0,100))\n",
    "data['sbp'] = scale.fit_transform(data['sbp'].values.reshape(-1,1))\n",
    "data.head()"
   ]
  },
  {
   "cell_type": "markdown",
   "metadata": {},
   "source": [
    "Como puedes observar los nuevos valores ahora se encuentran entre un rango de 0 y 100 y ninguno de ellos supera estos valores.\n",
    "\n",
    "Perfecto, ahora si tenemos nuestros datos listos para poder utilizarlos dentro de los algoritmos de Machine Learning. Pero antes de implementar este procedimiento visualizamos los datos.\n",
    "\n",
    "Para esto realizaremos varias gráficas con los datos disponibles.\n",
    "\n",
    "Lo primero que graficaremos será la obesidad de acuerdo a la edad. En este caso utilizaremos un código sencillo para realizar la gráfica. Simplemente indicamos el conjunto de datos punto plot y definimos los valores que se graficaran en los ejes “x” y “y”, el tipo de gráfica será de dispersión o scatter y el tamaño de la figura. Listo, con este código sencillo podemos realizar una gráfica."
   ]
  },
  {
   "cell_type": "code",
   "execution_count": null,
   "metadata": {},
   "outputs": [],
   "source": [
    "#Visualizar la obesidad de acuerdo a la edad\n",
    "data.plot(x='Edad',y='Obesidad',kind='scatter',figsize =(10,5))"
   ]
  },
  {
   "cell_type": "markdown",
   "metadata": {},
   "source": [
    "Según esta información a medida que se aumenta de edad aumenta la obesidad en la persona. Solamente hay casos aislado cuando esto no sucede.\n",
    "\n",
    "Grafiquemos ahora el consumo del tabaco de acuerdo a la edad. El código a utilizar será exactamente el mismo que se explico anteriormente"
   ]
  },
  {
   "cell_type": "code",
   "execution_count": null,
   "metadata": {},
   "outputs": [],
   "source": [
    "#Visualizar el consumo de tabaco de acuerdo a la edad\n",
    "data.plot(x='Edad',y='Tabaco',kind='scatter',figsize =(10,5))"
   ]
  },
  {
   "cell_type": "markdown",
   "metadata": {},
   "source": [
    "Acá podemos ver más claramente que a medida que aumenta la edad aumenta significativamente el consumo de tabaco. Datos que en ocasiones pensaríamos que es al contrario, pero con esta información podemos ver que no es así.\n",
    "\n",
    "Finalmente grafiquemos el consumo de alcohol de acuerdo a la edad. Acá volvemos a implementar el mismo código explicado previamente."
   ]
  },
  {
   "cell_type": "code",
   "execution_count": null,
   "metadata": {},
   "outputs": [],
   "source": [
    "#Visualizar el consumo de alcohol de acuerdo a la edad\n",
    "data.plot(x='Edad',y='Alcohol',kind='scatter',figsize =(10,5))"
   ]
  },
  {
   "cell_type": "markdown",
   "metadata": {},
   "source": [
    "El resultado obtenido se puede determinar que el consumo de alcohol se empieza a partir de los 20 años y se mantiene a lo largo de los años.\n",
    "\n",
    "Se pueden crear muchas más gráficas con los datos que tenemos disponibles, te recomiendo que practiques esto por tu cuenta, de esta forma mejoras tus habilidades en el desarrollo de visualizaciones de datos.\n",
    "\n",
    "Ahora si, construyamos el modelo de Machine Learning."
   ]
  },
  {
   "cell_type": "markdown",
   "metadata": {},
   "source": [
    "## Construimos el modelo ML\n",
    "\n",
    "Lo primero será importar las librerías que utilizaremos para construir y probar el modelo.\n",
    "\n",
    "La primera librería será train_test_split que la utilizaremos para separar los datos de entrenamiento y prueba.\n",
    "\n",
    "Importamos el algoritmo a utilizar que será SVM o máquinas de vectores de soporte. Recuerda que este es un problema de clasificación, acá queremos predecir de que si existe alguna enfermedad de corazón o no.\n",
    "\n",
    "Por último importamos las funciones para evaluar el modelo que obtengamos. La primera será la matriz de confusión y también importamos las funciones de exactitud y precisión del modelo."
   ]
  },
  {
   "cell_type": "code",
   "execution_count": null,
   "metadata": {},
   "outputs": [],
   "source": [
    "### ANÁLISIS DE MACHINE LEARNING ###\n",
    "from sklearn.model_selection import train_test_split\n",
    "from sklearn import svm\n",
    "from sklearn.metrics import confusion_matrix\n",
    "from sklearn.metrics import accuracy_score, precision_score"
   ]
  },
  {
   "cell_type": "markdown",
   "metadata": {},
   "source": [
    "Realizado esto, procedemos a definir las variables dependientes e independientes.\n",
    "\n",
    "Para “y” será igual a la columna “chd”, mientras que “X” será igual al resto de valores de nuestro conjunto de datos."
   ]
  },
  {
   "cell_type": "code",
   "execution_count": null,
   "metadata": {},
   "outputs": [],
   "source": [
    "#Definir las variable dependiente e independientes\n",
    "y = data['chd']\n",
    "X = data.drop('chd', axis =1)"
   ]
  },
  {
   "cell_type": "markdown",
   "metadata": {},
   "source": [
    "Separamos los datos de entrenamiento y prueba, utilizando la instrucción train_test_split."
   ]
  },
  {
   "cell_type": "code",
   "execution_count": null,
   "metadata": {},
   "outputs": [],
   "source": [
    "#Separar los datos de entrenamiento y prueba\n",
    "X_train, X_test, y_train, y_test = train_test_split(X, y, test_size = 0.20, random_state=1)"
   ]
  },
  {
   "cell_type": "markdown",
   "metadata": {},
   "source": [
    "Definimos el algoritmo a utilizar, que como se indicó anteriormente será el de Máquinas Vectores de Soporte, junto a un kernel lineal. En caso de que no entiendas que es un kernel te recomiendo que revises la información que tengo publicada al respecto en donde explico toda esto."
   ]
  },
  {
   "cell_type": "code",
   "execution_count": null,
   "metadata": {},
   "outputs": [],
   "source": [
    "#Definir el algoritmo\n",
    "algoritmo = svm.SVC(kernel ='linear')"
   ]
  },
  {
   "cell_type": "markdown",
   "metadata": {},
   "source": [
    "Entrenamos el modelo junto con los datos de entrenamiento que separamos previamente."
   ]
  },
  {
   "cell_type": "code",
   "execution_count": null,
   "metadata": {},
   "outputs": [],
   "source": [
    "#Entrenar el algoritmo\n",
    "algoritmo.fit(X_train, y_train)"
   ]
  },
  {
   "cell_type": "markdown",
   "metadata": {},
   "source": [
    "Y finalmente realizamos una predicción junto con el modelo obtenido y los datos de prueba."
   ]
  },
  {
   "cell_type": "code",
   "execution_count": null,
   "metadata": {},
   "outputs": [],
   "source": [
    "#Realizar una predicción\n",
    "y_test_pred = algoritmo.predict(X_test)"
   ]
  },
  {
   "cell_type": "markdown",
   "metadata": {},
   "source": [
    "Veamos que tan bien es el modelo obtenido, para esto utilizamos las métricas que importamos previamente.\n",
    "\n",
    "La primera a evaluar será la matriz de confusión."
   ]
  },
  {
   "cell_type": "code",
   "execution_count": null,
   "metadata": {},
   "outputs": [],
   "source": [
    "#Se calcula la matriz de confusión\n",
    "print(confusion_matrix(y_test, y_test_pred))"
   ]
  },
  {
   "cell_type": "markdown",
   "metadata": {},
   "source": [
    "Los valores obtenidos es el de 67 datos correctos y 26 datos incorrectos. Recuerda que en la diagonal principal se muestran los valores predichos correctamente mientras que en la diagonal secundario están representado los datos erróneos. En caso de que no entiendas esto, puedes revisar la información de la matrices de confusión que fue publicada en el blog.\n",
    "\n",
    "Con esto podemos ya decir que el modelo no acerto correctamente un gran número de datos. Pero veamos la precisión y la exactitud del mismo."
   ]
  },
  {
   "cell_type": "code",
   "execution_count": null,
   "metadata": {},
   "outputs": [],
   "source": [
    "#Se calcula la exactitud y precisión del modelo\n",
    "accuracy_score(y_test, y_test_pred)\n",
    "precision_score(y_test, y_test_pred)"
   ]
  },
  {
   "cell_type": "markdown",
   "metadata": {},
   "source": [
    "Implementando las funciones importadas anteriormente de la librería metrics de sklearn podemos decir que la exactitud del modelo es de 0,72 mientras que la precisión es de 0,526. Recuerda que ambos valores se refieren a dos términos completamente distintos y que fueron explicados en la información publicada de la métricas de los algoritmos de clasificación.\n",
    "\n",
    "La información obtenida acá reafirma lo obtenido en la matriz de confusión.\n",
    "\n",
    "Te recomiendo que por tu cuenta realices mejoras al calculo del modelo, algunos cosas que puedes hacer es probar con varios algoritmos de clasificación y ver si se mejora los datos obtenidos. También puedes probar seleccionando las características más significativa y verificar los resultados.\n",
    "\n",
    "Recuerda que para mejorar en el área de Machine Learning debes realizar proyectos por tu cuenta o inclusive mejorar los que ya están publicados, de esta forma mejorarás las habilidades dentro de este campo."
   ]
  }
 ],
 "metadata": {
  "kernelspec": {
   "display_name": "Python 3",
   "language": "python",
   "name": "python3"
  },
  "language_info": {
   "codemirror_mode": {
    "name": "ipython",
    "version": 3
   },
   "file_extension": ".py",
   "mimetype": "text/x-python",
   "name": "python",
   "nbconvert_exporter": "python",
   "pygments_lexer": "ipython3",
   "version": "3.7.3"
  }
 },
 "nbformat": 4,
 "nbformat_minor": 2
}
