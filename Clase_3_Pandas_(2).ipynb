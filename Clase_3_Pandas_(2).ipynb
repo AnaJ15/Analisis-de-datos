{
  "nbformat": 4,
  "nbformat_minor": 0,
  "metadata": {
    "colab": {
      "provenance": [],
      "toc_visible": true
    },
    "kernelspec": {
      "name": "python3",
      "display_name": "Python 3"
    },
    "language_info": {
      "name": "python"
    }
  },
  "cells": [
    {
      "cell_type": "markdown",
      "source": [
        "# Pandas (2)"
      ],
      "metadata": {
        "id": "lTU1DkmDhKfz"
      }
    },
    {
      "cell_type": "code",
      "execution_count": null,
      "metadata": {
        "id": "yHj-a4gKhKIA"
      },
      "outputs": [],
      "source": [
        "import pandas as pd"
      ]
    },
    {
      "cell_type": "code",
      "source": [
        "df = pd.read_csv(\"http://data.insideairbnb.com/spain/comunidad-de-madrid/madrid/2023-03-15/visualisations/listings.csv\", index_col=\"id\")\n",
        "df.head()"
      ],
      "metadata": {
        "id": "3N5ocU9VhuLa"
      },
      "execution_count": null,
      "outputs": []
    },
    {
      "cell_type": "markdown",
      "source": [
        "# Agrupamiento y ordenamiento de datos"
      ],
      "metadata": {
        "id": "PAhS26v1iQzo"
      }
    },
    {
      "cell_type": "markdown",
      "source": [
        "## Agrupamiento"
      ],
      "metadata": {
        "id": "LC8_cR8siUHm"
      }
    },
    {
      "cell_type": "code",
      "source": [
        "df[\"neighbourhood_group\"].value_counts()"
      ],
      "metadata": {
        "id": "NSxt1IkBiQij"
      },
      "execution_count": null,
      "outputs": []
    },
    {
      "cell_type": "code",
      "source": [
        "#df.groupby(\"neighbourhood_group\").price.count()\n",
        "#df.groupby(\"neighbourhood_group\").price.max()\n",
        "#df.groupby(\"neighbourhood_group\").price.min()\n",
        "df.groupby(\"neighbourhood_group\").price.mean()"
      ],
      "metadata": {
        "id": "udJLz6gKi9Um"
      },
      "execution_count": null,
      "outputs": []
    },
    {
      "cell_type": "code",
      "source": [
        "df.groupby(\"neighbourhood_group\").price.agg([\"min\", \"max\", \"mean\", \"sum\", \"count\"])"
      ],
      "metadata": {
        "id": "pzdlR71-jlFb"
      },
      "execution_count": null,
      "outputs": []
    },
    {
      "cell_type": "code",
      "source": [
        "df.groupby([\"neighbourhood_group\", \"neighbourhood\"]).price.agg([\"min\", \"max\", \"mean\", \"sum\", \"count\"])"
      ],
      "metadata": {
        "id": "On0SZaHNkRvX"
      },
      "execution_count": null,
      "outputs": []
    },
    {
      "cell_type": "code",
      "source": [
        "df.groupby([\"neighbourhood_group\", \"neighbourhood\"]).price.agg([\"min\", \"max\", \"mean\", \"sum\", \"count\"]).reset_index()"
      ],
      "metadata": {
        "id": "NwMOGaAMkj-T"
      },
      "execution_count": null,
      "outputs": []
    },
    {
      "cell_type": "markdown",
      "source": [
        "## Ordenamiento"
      ],
      "metadata": {
        "id": "RDwfpS0tk3hq"
      }
    },
    {
      "cell_type": "code",
      "source": [
        "df.sort_values(by=[\"host_name\", \"neighbourhood\"])"
      ],
      "metadata": {
        "id": "L0PJe_UQmetF"
      },
      "execution_count": null,
      "outputs": []
    },
    {
      "cell_type": "code",
      "source": [
        "df.sort_values(by=[\"price\"], ascending=False)"
      ],
      "metadata": {
        "id": "1K_wDj-Wm3Yo"
      },
      "execution_count": null,
      "outputs": []
    },
    {
      "cell_type": "code",
      "source": [
        "df.sort_values(by=[\"price\"], ascending=False)[:5]"
      ],
      "metadata": {
        "id": "QCaHTRGBnQqd"
      },
      "execution_count": null,
      "outputs": []
    },
    {
      "cell_type": "markdown",
      "source": [
        "# Ejercicios (1)"
      ],
      "metadata": {
        "id": "p1n1QJHwblfH"
      }
    },
    {
      "cell_type": "code",
      "source": [
        "# Ejercicio: Por barrio (neighbourhood), la disponibilidad (availability_365) media para apartamentos/casas enteros (Entire home/apt),\n",
        "# ordenados por disponibilidad media de mayor a menor\n",
        "df.loc[df.room_type==\"Entire home/apt\"].groupby([\"neighbourhood\"]).availability_365.agg([\"mean\"]).sort_values(by=[\"mean\"], ascending=False)"
      ],
      "metadata": {
        "id": "HJb6s7ainW-r"
      },
      "execution_count": null,
      "outputs": []
    },
    {
      "cell_type": "code",
      "source": [
        "# Ejercicio: Hosts con más de 10 opiniones en total"
      ],
      "metadata": {
        "id": "-QAb1fNQpi10"
      },
      "execution_count": null,
      "outputs": []
    },
    {
      "cell_type": "code",
      "source": [
        "g = df.groupby([\"host_id\"]).number_of_reviews.agg([\"sum\"])\n",
        "g[g[\"sum\"] > 10]"
      ],
      "metadata": {
        "id": "VrXB5vjWq_Fy"
      },
      "execution_count": null,
      "outputs": []
    },
    {
      "cell_type": "code",
      "source": [
        "# version 2\n",
        "df.groupby([\"host_id\"]).number_of_reviews.agg([\"sum\"]).rename(columns={\"sum\": \"suma\"}).query(\"suma > 10\")"
      ],
      "metadata": {
        "id": "6XAsWrl5sugc"
      },
      "execution_count": null,
      "outputs": []
    },
    {
      "cell_type": "code",
      "source": [
        "# Ejercicio: Top 5 propiedades por número de opiniones (number_of_reviews)\n",
        "df.groupby([\"name\"]).number_of_reviews.agg([\"sum\"]).sort_values(by=[\"sum\"], ascending=False).head(5)\n",
        "\n",
        "# version alternativa\n",
        "df.groupby([\"name\"]).number_of_reviews.agg([\"sum\"]).rename(columns={\"sum\":\"suma\"}).sort_values(by=[\"suma\"],ascending=False)[:5]"
      ],
      "metadata": {
        "id": "6TLG60YZuKkZ"
      },
      "execution_count": null,
      "outputs": []
    },
    {
      "cell_type": "markdown",
      "source": [
        "# Funciones de fecha y cadena de caracteres"
      ],
      "metadata": {
        "id": "mrkBRdKPy-zu"
      }
    },
    {
      "cell_type": "code",
      "source": [
        "df = pd.read_csv(\"http://data.insideairbnb.com/spain/comunidad-de-madrid/madrid/2023-03-15/visualisations/listings.csv\", index_col=\"id\", parse_dates=[\"last_review\"])\n",
        "df.last_review"
      ],
      "metadata": {
        "id": "rRxrSs2fzDjq"
      },
      "execution_count": null,
      "outputs": []
    },
    {
      "cell_type": "code",
      "source": [
        "df.last_review.dt.day_of_week"
      ],
      "metadata": {
        "id": "n_x7psj7zcfs"
      },
      "execution_count": null,
      "outputs": []
    },
    {
      "cell_type": "code",
      "source": [
        "from datetime import datetime\n",
        "\n",
        "df[\"dias_para_navidad\"] = (datetime.strptime(\"2023-12-25\", \"%Y-%m-%d\").date() - df.last_review.dt.date).dt.days\n",
        "df[\"dias_para_navidad\"]"
      ],
      "metadata": {
        "id": "fe9n-HRvz_cj"
      },
      "execution_count": null,
      "outputs": []
    },
    {
      "cell_type": "code",
      "source": [
        "df.name.str.replace(\"Metro\", \"Subte\")"
      ],
      "metadata": {
        "id": "XW59-Yfu1fOt"
      },
      "execution_count": null,
      "outputs": []
    },
    {
      "cell_type": "markdown",
      "source": [
        "# Ejercicios (2)"
      ],
      "metadata": {
        "id": "sRdggbiFboLT"
      }
    },
    {
      "cell_type": "code",
      "source": [
        "# Ejercicio: Crear un campo nuevo que me dice si un apartamento es \"Bed and Breakfast\"\n",
        "df[\"es_bed_and_brekfast\"] = df.name.str.lower().str.replace(\"&\", \"and\").str.contains(\"bed and breakfast\").sum()"
      ],
      "metadata": {
        "id": "tesXeg-S2Qqy"
      },
      "execution_count": null,
      "outputs": []
    },
    {
      "cell_type": "markdown",
      "source": [
        "# Combinación de datos"
      ],
      "metadata": {
        "id": "5si7tLMY31Gk"
      }
    },
    {
      "cell_type": "code",
      "source": [
        "df_bcn = pd.read_csv(\"http://data.insideairbnb.com/spain/catalonia/barcelona/2023-03-14/visualisations/listings.csv\", index_col=\"id\")\n",
        "df_bcn"
      ],
      "metadata": {
        "id": "aZgH3mcF36Lc"
      },
      "execution_count": null,
      "outputs": []
    },
    {
      "cell_type": "markdown",
      "source": [
        "## Combinar filas"
      ],
      "metadata": {
        "id": "P-6kIRp44aCq"
      }
    },
    {
      "cell_type": "code",
      "source": [
        "pd.concat([df, df_bcn], ignore_index=True)"
      ],
      "metadata": {
        "id": "EYRbDfUJ4bom"
      },
      "execution_count": null,
      "outputs": []
    },
    {
      "cell_type": "markdown",
      "source": [
        "## Combinar columnas (juntas)"
      ],
      "metadata": {
        "id": "jIgl2L5k438o"
      }
    },
    {
      "cell_type": "code",
      "source": [
        "df_mean_price = df.groupby(\"neighbourhood\").price.mean().reset_index().rename(columns={\"price\": \"mean_price\"})\n",
        "df_mean_price"
      ],
      "metadata": {
        "id": "6Qlu5IuS48Kx"
      },
      "execution_count": null,
      "outputs": []
    },
    {
      "cell_type": "code",
      "source": [
        "df2 = df.merge(df_mean_price, on=\"neighbourhood\")\n",
        "\n",
        "df2.loc[(df2.price <= df2.mean_price * 0.8)]"
      ],
      "metadata": {
        "id": "2MMj0Eus51yq"
      },
      "execution_count": null,
      "outputs": []
    },
    {
      "cell_type": "code",
      "source": [
        "# Ejercicio: Por barrio, listado de propiedades con cantidad de opiniones (reviews) mayor al promedio de opiniones de ese barrio\n",
        "\n",
        "df_mean_reviews =  df.groupby(\"neighbourhood\").number_of_reviews.mean().reset_index().rename(columns={\"number_of_reviews\":\"mean_number_of_reviews\"})\n",
        "\n",
        "df3 = df.merge(df_mean_reviews, on=\"neighbourhood\")\n",
        "df3.loc[(df3.number_of_reviews > df3.mean_number_of_reviews)]"
      ],
      "metadata": {
        "id": "ZEEE4a066t6T"
      },
      "execution_count": null,
      "outputs": []
    },
    {
      "cell_type": "markdown",
      "source": [
        "# Visualización de datos"
      ],
      "metadata": {
        "id": "IQgWFgQA8jTh"
      }
    },
    {
      "cell_type": "code",
      "source": [
        "import matplotlib.pyplot as plt\n",
        "plt.rcParams['figure.figsize'] = [20, 8]"
      ],
      "metadata": {
        "id": "fxzOfD5O9Jwh"
      },
      "execution_count": null,
      "outputs": []
    },
    {
      "cell_type": "code",
      "source": [
        "df.neighbourhood_group.hist()"
      ],
      "metadata": {
        "id": "9MuUnZHS84I6"
      },
      "execution_count": null,
      "outputs": []
    },
    {
      "cell_type": "code",
      "source": [
        "df.hist(by=\"neighbourhood_group\", column=\"neighbourhood\")"
      ],
      "metadata": {
        "id": "Gg4Sgpvp98uP"
      },
      "execution_count": null,
      "outputs": []
    },
    {
      "cell_type": "code",
      "source": [
        "df.loc[df.price < 1000].price.hist(bins=100)"
      ],
      "metadata": {
        "id": "hiUZ0b1y-VRR"
      },
      "execution_count": null,
      "outputs": []
    },
    {
      "cell_type": "code",
      "source": [
        "df.loc[df.price < 200].boxplot(column=\"price\")"
      ],
      "metadata": {
        "id": "pB47uIMU-606"
      },
      "execution_count": null,
      "outputs": []
    },
    {
      "cell_type": "code",
      "source": [
        "df.loc[df.price < 200].boxplot(by=\"neighbourhood_group\", column=\"price\")"
      ],
      "metadata": {
        "id": "jCrbD9f3_QSz"
      },
      "execution_count": null,
      "outputs": []
    },
    {
      "cell_type": "code",
      "source": [
        "df.loc[df.room_type == \"Hotel room\"].boxplot(by=\"neighbourhood_group\", column=\"price\")"
      ],
      "metadata": {
        "id": "i41kXpAk_nk1"
      },
      "execution_count": null,
      "outputs": []
    },
    {
      "cell_type": "code",
      "source": [
        "df[df.price < 200].plot.scatter(\"availability_365\", \"price\", c=df[df.price < 200].neighbourhood_group.map({\n",
        "    'Chamartín': \"red\", 'Latina': \"blue\", 'Centro': \"green\", 'Salamanca': \"orange\", 'San Blas - Canillejas': \"yellow\", 'Ciudad Lineal': \"orange\", 'Hortaleza': \"yellow\" \n",
        "}).fillna(\"black\"))\n",
        "\n"
      ],
      "metadata": {
        "id": "HJnWEngx_4EQ"
      },
      "execution_count": null,
      "outputs": []
    },
    {
      "cell_type": "code",
      "source": [
        "df.neighbourhood_group.unique()"
      ],
      "metadata": {
        "id": "6Ht_euMXAYjW"
      },
      "execution_count": null,
      "outputs": []
    },
    {
      "cell_type": "markdown",
      "source": [
        "# Ejercicios (3)"
      ],
      "metadata": {
        "id": "7BZ2IVGVbgPo"
      }
    },
    {
      "cell_type": "code",
      "source": [
        "# Ejercicio: Histograma de la distribución de la cantidad mínima de noches (minimun_nights)\n",
        "df.loc[df.minimum_nights < 90].minimum_nights.hist(bins=100)"
      ],
      "metadata": {
        "id": "fJjo0KCRBWZS"
      },
      "execution_count": null,
      "outputs": []
    },
    {
      "cell_type": "code",
      "source": [
        "# Ejercicio: cantidad mínima de noches (minimum_nights) en promedio que me piden por tipo de habitación (room_type)\n",
        "df.loc[df.minimum_nights < 10].boxplot(column=\"minimum_nights\", by=\"room_type\")"
      ],
      "metadata": {
        "id": "WOxhGdXoDGHG"
      },
      "execution_count": null,
      "outputs": []
    },
    {
      "cell_type": "code",
      "source": [
        "# Ejercicio: Hacer un mapa de las propiedades, coloreando todo en azul, menos Carabanchel que va en rojo y Retiro en verde\n",
        "\n",
        "plt.rcParams['figure.figsize'] = [10, 10]\n",
        "\n",
        "df[df.price < 200].plot.scatter(\"longitude\", \"latitude\", c=df[df.price < 200].neighbourhood_group.map({\n",
        "    'Carabanchel': \"red\", 'Retiro': \"green\"}).fillna(\"blue\"))"
      ],
      "metadata": {
        "id": "fpyitp6eDgZr"
      },
      "execution_count": null,
      "outputs": []
    }
  ]
}