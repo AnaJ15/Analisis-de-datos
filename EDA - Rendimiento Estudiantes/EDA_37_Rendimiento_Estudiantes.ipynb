{
 "cells": [
  {
   "cell_type": "markdown",
   "metadata": {},
   "source": [
    "# EDA Guía práctica usando Pandas\n",
    "\n",
    "## Un análisis de los rendimientos de estudiantes en base a diferentes pruebas.\n",
    "\n",
    "Original: https://towardsdatascience.com/practical-eda-guide-with-pandas-3463ea637609\n",
    "\n",
    "Dataset: https://www.kaggle.com/spscientist/students-performance-in-exams"
   ]
  },
  {
   "cell_type": "markdown",
   "metadata": {},
   "source": [
    "Pandas es una librería ampliamente utilizada para análisis de datos y proporciona numerosos métodos y funciones para trabajar con datos tabulares (filas y columnas, 2 dimensiones)\n",
    "\n",
    "La valiosa selección de funciones **\"easy-to-use\"** hace el `Análisis Exploratorio de Datos (EDA)` un proceso sencillo.\n",
    "\n",
    "Usaremos el dataset https://www.kaggle.com/spscientist/students-performance-in-exams. Éste dataset contiene información personal sobre estudiantes y sus rendimientos en varias pruebas.\n",
    "\n",
    "### 1.- Leyendo el dataset\n",
    "\n",
    "El primer paso es cargar las librerías que vamos a utilizar en éste estudio."
   ]
  },
  {
   "cell_type": "code",
   "execution_count": null,
   "metadata": {},
   "outputs": [],
   "source": [
    "# Librerías a utilizar\n",
    "import numpy as np\n",
    "import pandas as pd"
   ]
  },
  {
   "cell_type": "markdown",
   "metadata": {},
   "source": [
    "Cargamos el dataset a un **dataframe** de Pandas."
   ]
  },
  {
   "cell_type": "code",
   "execution_count": null,
   "metadata": {},
   "outputs": [],
   "source": [
    "df = pd.read_csv(\"EDA_37_StudentsPerformance.csv\")"
   ]
  },
  {
   "cell_type": "markdown",
   "metadata": {},
   "source": [
    "Veamos cuantas filas y columnas tiene el dataset"
   ]
  },
  {
   "cell_type": "code",
   "execution_count": null,
   "metadata": {},
   "outputs": [],
   "source": [
    "df.shape"
   ]
  },
  {
   "cell_type": "markdown",
   "metadata": {},
   "source": [
    "El contenido de las primeras filas del dataframe es:"
   ]
  },
  {
   "cell_type": "code",
   "execution_count": null,
   "metadata": {},
   "outputs": [],
   "source": [
    "df.head()"
   ]
  },
  {
   "cell_type": "markdown",
   "metadata": {},
   "source": [
    "Comprobamos que hay 5 características categóricas y marcadores de 3 pruebas diferentes. El objetivo es comprobar que características influyen en dichos marcadores."
   ]
  },
  {
   "cell_type": "markdown",
   "metadata": {},
   "source": [
    "A continuación, comencemos a comprobar la distribución de los marcadores. Usaremos la función `plot`de Pandas para crear un `kernel density plot (KDE)`.\n",
    "\n",
    "Para la prueba *reading* tenemos el siguiente gráfico:"
   ]
  },
  {
   "cell_type": "code",
   "execution_count": null,
   "metadata": {},
   "outputs": [],
   "source": [
    "df['reading score'].plot(kind='kde', figsize=(10,6), title='Distribution of Reading Score')"
   ]
  },
  {
   "cell_type": "markdown",
   "metadata": {},
   "source": [
    "Vemos que el marcador *reading* tiene una distribución normal.\n",
    "\n",
    "Comprobemos el marcador *math*."
   ]
  },
  {
   "cell_type": "code",
   "execution_count": null,
   "metadata": {},
   "outputs": [],
   "source": [
    "df['reading score'].plot(kind='kde', figsize=(10,6), title='Distribution of Math Score')"
   ]
  },
  {
   "cell_type": "markdown",
   "metadata": {},
   "source": [
    "Igualmente, tiene una distribución normal.\n",
    "\n",
    "Hagamos el mismo gráfico para el marcador *writing*"
   ]
  },
  {
   "cell_type": "code",
   "execution_count": null,
   "metadata": {},
   "outputs": [],
   "source": [
    "df['reading score'].plot(kind='kde', figsize=(10,6), title='Distribution of Writing Score')"
   ]
  },
  {
   "cell_type": "markdown",
   "metadata": {},
   "source": [
    "La columna `race/ethnicity` contiene 5 grupos. Veamos el valor medio de cada marcador para cada grupo. Usaremos la función `groupby` de Pandas en ésta ocasión. Además, haremos un conteo de valores para cada marcador."
   ]
  },
  {
   "cell_type": "code",
   "execution_count": null,
   "metadata": {},
   "outputs": [],
   "source": [
    "df[['race/ethnicity','math score','reading score','writing score']].groupby('race/ethnicity').agg({'math score':'mean', 'reading score':'mean', 'writing score':['mean','count']}).round(1)"
   ]
  },
  {
   "cell_type": "markdown",
   "metadata": {},
   "source": [
    "Si deseamos aplicar diferentes funciones agregadas a diferentes columnas, podemos pasar un diccionario a la función `agg`. Dado que el recuento es el mismo para todas las pruebas, es suficiente aplicar la función de recuento a una sola columna.\n",
    "\n",
    "Los resultados muestran que los puntajes promedio aumentan constantemente del grupo A al grupo E.\n",
    "\n",
    "Podemos usar la misma lógica para obtener una descripción general de la relación entre una variable categórica y los puntajes de las pruebas.\n",
    "\n",
    "Para ir un paso más allá, se pueden crear grupos anidados. Hagamos un ejemplo con las columnas `genero`, `curso de preparación para exámenes` y `puntuación de matemáticas`. Los alumnos serán agrupados por género y cursando el curso de preparación. Luego, se calculará el puntaje promedio de matemáticas para cada grupo."
   ]
  },
  {
   "cell_type": "code",
   "execution_count": null,
   "metadata": {},
   "outputs": [],
   "source": [
    "df[['gender','test preparation course','math score']].groupby(['gender','test preparation course']).agg(['mean','count']).round(1)"
   ]
  },
  {
   "cell_type": "markdown",
   "metadata": {},
   "source": [
    "El curso de preparación para el examen tiene un efecto positivo en los puntajes de matemáticas tanto para mujeres como para hombres. En general, los hombres obtienen mejores resultados que las mujeres en las pruebas de matemáticas.\n",
    "\n",
    "Es posible que hayas notado la función de redondeo al final del código. Simplemente redondea los números de punto flotante al número deseado de puntos decimales.\n",
    "\n",
    "También podemos comprobar cómo se relacionan los grupos en dos variables categóricas. Considera las columnas *raza/etnia* y *nivel de educación de los padres*. La distribución del nivel de educación puede ser diferente para cada grupo étnico.\n",
    "\n",
    "Primero crearemos un dataframe que contenga la cantidad de personas para cada combinación de grupo étnico y nivel educativo."
   ]
  },
  {
   "cell_type": "code",
   "execution_count": null,
   "metadata": {},
   "outputs": [],
   "source": [
    "education = df[['race/ethnicity','parental level of education','lunch']].groupby(['race/ethnicity','parental level of education']).count().reset_index()\n",
    "education.rename(columns={'lunch':'count'}, inplace=True)\n",
    "\n",
    "education.head()"
   ]
  },
  {
   "cell_type": "markdown",
   "metadata": {},
   "source": [
    "La tercera columna puede ser cualquier columna porque solo se usa para contar las observaciones (es decir, filas) que pertenecen a una combinación particular de etnia-nivel educativo. Esa es la razón por la que cambiamos el nombre de la columna de lunch a count.\n",
    "\n",
    "El nivel de educación del \"grupo A\" está cerca de distribuirse uniformemente, excepto en el caso de la \"maestría\". Hay muchas opciones para visualizar el marco de datos educativo que acabamos de crear. \n",
    "\n",
    "Haremos un diagrama de línea polar de la biblioteca de gráficos **plotly**."
   ]
  },
  {
   "cell_type": "code",
   "execution_count": null,
   "metadata": {},
   "outputs": [],
   "source": [
    "import plotly.express as px\n",
    "\n",
    "fig = px.line_polar(education, r='count', theta='parental level of education',color='race/ethnicity', line_close=True, width=800, height=500)\n",
    "fig.show()"
   ]
  },
  {
   "cell_type": "markdown",
   "metadata": {},
   "source": [
    "Nos da una visión general de la distribución del nivel educativo de los diferentes grupos. Es importante señalar que esta gráfica polar no se puede utilizar para comparar directamente los niveles de educación de diferentes grupos porque el número de estudiantes en cada grupo no es el mismo."
   ]
  },
  {
   "cell_type": "code",
   "execution_count": null,
   "metadata": {},
   "outputs": [],
   "source": [
    "df['race/ethnicity'].value_counts()"
   ]
  },
  {
   "cell_type": "markdown",
   "metadata": {},
   "source": [
    "El grupo C contiene la mayor cantidad de estudiantes. Por lo tanto, usamos este gráfico polar para verificar la distribución del nivel de educación dentro de cada grupo.\n",
    "Por ejemplo, \"associate's degreee\" es el nivel educativo más dominante en el grupo C. Podemos confirmar los resultados utilizando la función `value_counts`."
   ]
  },
  {
   "cell_type": "code",
   "execution_count": null,
   "metadata": {},
   "outputs": [],
   "source": [
    "education[education['race/ethnicity'] == 'group C'].value_counts()"
   ]
  },
  {
   "cell_type": "markdown",
   "metadata": {},
   "source": [
    "Otra función útil para comparar categorías es `pivot_table`. Crea una tabla cruzada que consta de combinaciones de categorías.\n",
    "\n",
    "Hagamos un ejemplo usando las columnas *lunch* y *parental level of education* en la puntuación *writing*."
   ]
  },
  {
   "cell_type": "code",
   "execution_count": null,
   "metadata": {},
   "outputs": [],
   "source": [
    "pd.pivot_table(df, values='writing score',index='parental level of education', columns='lunch',aggfunc='mean')"
   ]
  },
  {
   "cell_type": "markdown",
   "metadata": {},
   "source": [
    "Las variables categóricas (es decir, columnas) se pasan a los parámetros de índice y columna y la variable numérica se pasa al parámetro de valores. Dependiendo de la función agregada seleccionada (parámetro `aggfunc`), se calculan los valores.\n",
    "\n",
    "La tabla dinámica muestra que es probable que tener un `lunch` estándar aumente la puntuación *writing*. De manera similar, a medida que aumenta el nivel de educación de los padres, los estudiantes tienden a obtener mejores puntajes."
   ]
  },
  {
   "cell_type": "markdown",
   "metadata": {},
   "source": [
    "## Conclusion\n",
    "\n",
    "Hemos descubierto algunas ideas sobre lo que afecta el desempeño de los estudiantes en las pruebas. Por supuesto, hay muchas medidas diferentes que puede verificar. Sin embargo, las técnicas son bastante similares.\n",
    "\n",
    "Dependiendo de lo que busque, las técnicas que utilice se inclinarán hacia una dirección particular. Sin embargo, una vez que se sienta cómodo con el trabajo de Pandas, puede realizar prácticamente cualquier tarea con datos tabulares."
   ]
  }
 ],
 "metadata": {
  "kernelspec": {
   "display_name": "Python 3",
   "language": "python",
   "name": "python3"
  },
  "language_info": {
   "codemirror_mode": {
    "name": "ipython",
    "version": 3
   },
   "file_extension": ".py",
   "mimetype": "text/x-python",
   "name": "python",
   "nbconvert_exporter": "python",
   "pygments_lexer": "ipython3",
   "version": "3.8.3"
  }
 },
 "nbformat": 4,
 "nbformat_minor": 4
}
